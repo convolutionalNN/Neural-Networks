{
  "nbformat": 4,
  "nbformat_minor": 0,
  "metadata": {
    "colab": {
      "name": "PyTorch Feed Forward",
      "provenance": [],
      "authorship_tag": "ABX9TyOE1WbNOqN0eAeYQbYrAyB3",
      "include_colab_link": true
    },
    "kernelspec": {
      "name": "python3",
      "display_name": "Python 3"
    },
    "accelerator": "GPU"
  },
  "cells": [
    {
      "cell_type": "markdown",
      "metadata": {
        "id": "view-in-github",
        "colab_type": "text"
      },
      "source": [
        "<a href=\"https://colab.research.google.com/github/convolutionalNN/Neural-Networks/blob/master/PyTorch_Feed_Forward.ipynb\" target=\"_parent\"><img src=\"https://colab.research.google.com/assets/colab-badge.svg\" alt=\"Open In Colab\"/></a>"
      ]
    },
    {
      "cell_type": "code",
      "metadata": {
        "id": "FjYBujcD5brh",
        "colab_type": "code",
        "colab": {}
      },
      "source": [
        "import torch\n",
        "from torch.autograd import Variable\n",
        "import torch.nn as nn\n",
        "import torch.nn.functional as F\n",
        "import torch.optim as optim\n",
        "from torchvision import datasets, transforms\n",
        "\n",
        "\n",
        "def simple_gradient():\n",
        "    # print the gradient of 2x^2 + 5x\n",
        "    x = Variable(torch.ones(2, 2) * 2, requires_grad=True)\n",
        "    z = 2 * (x * x) + 5 * x\n",
        "    # run the backpropagation\n",
        "    z.backward(torch.ones(2, 2))\n",
        "    print(x.grad)\n",
        "\n",
        "\n",
        "def create_nn(batch_size=200, learning_rate=0.01, epochs=10,\n",
        "              log_interval=10):\n",
        "\n",
        "    train_loader = torch.utils.data.DataLoader(\n",
        "        datasets.MNIST('../data', train=True, download=True,\n",
        "                       transform=transforms.Compose([\n",
        "                           transforms.ToTensor(),\n",
        "                           transforms.Normalize((0.1307,), (0.3081,))\n",
        "                       ])),\n",
        "        batch_size=batch_size, shuffle=True)\n",
        "    test_loader = torch.utils.data.DataLoader(\n",
        "        datasets.MNIST('../data', train=False, transform=transforms.Compose([\n",
        "            transforms.ToTensor(),\n",
        "            transforms.Normalize((0.1307,), (0.3081,))\n",
        "        ])),\n",
        "        batch_size=batch_size, shuffle=True)\n",
        "\n",
        "    class Net(nn.Module):\n",
        "        def __init__(self):\n",
        "            super(Net, self).__init__()\n",
        "            self.fc1 = nn.Linear(28 * 28, 200)\n",
        "            self.fc2 = nn.Linear(200, 200)\n",
        "            self.fc3 = nn.Linear(200, 10)\n",
        "\n",
        "        def forward(self, x):\n",
        "            x = F.relu(self.fc1(x))\n",
        "            x = F.relu(self.fc2(x))\n",
        "            x = self.fc3(x)\n",
        "            return F.log_softmax(x)\n",
        "\n",
        "    net = Net()\n",
        "    print(net)\n",
        "\n",
        "    # create a stochastic gradient descent optimizer\n",
        "    optimizer = optim.SGD(net.parameters(), lr=learning_rate, momentum=0.9)\n",
        "    # create a loss function\n",
        "    criterion = nn.NLLLoss()\n",
        "\n",
        "    # run the main training loop\n",
        "    for epoch in range(epochs):\n",
        "        for batch_idx, (data, target) in enumerate(train_loader):\n",
        "            data, target = Variable(data), Variable(target)\n",
        "            # resize data from (batch_size, 1, 28, 28) to (batch_size, 28*28)\n",
        "            data = data.view(-1, 28*28)\n",
        "            optimizer.zero_grad()\n",
        "            net_out = net(data)\n",
        "            loss = criterion(net_out, target)\n",
        "            loss.backward()\n",
        "            optimizer.step()\n",
        "            if batch_idx % log_interval == 0:\n",
        "                print('Train Epoch: {} [{}/{} ({:.0f}%)]\\tLoss: {:.6f}'.format(\n",
        "                    epoch, batch_idx * len(data), len(train_loader.dataset),\n",
        "                           100. * batch_idx / len(train_loader), loss.data))\n",
        "\n",
        "    # run a test loop\n",
        "    test_loss = 0\n",
        "    correct = 0\n",
        "    for data, target in test_loader:\n",
        "        data, target = Variable(data, volatile=True), Variable(target)\n",
        "        data = data.view(-1, 28 * 28)\n",
        "        net_out = net(data)\n",
        "        # sum up batch loss\n",
        "        test_loss += criterion(net_out, target).data\n",
        "        pred = net_out.data.max(1)[1]  # get the index of the max log-probability\n",
        "        correct += pred.eq(target.data).sum()\n",
        "\n",
        "    test_loss /= len(test_loader.dataset)\n",
        "    print('\\nTest set: Average loss: {:.4f}, Accuracy: {}/{} ({:.0f}%)\\n'.format(\n",
        "        test_loss, correct, len(test_loader.dataset),\n",
        "        100. * correct / len(test_loader.dataset)))"
      ],
      "execution_count": 0,
      "outputs": []
    },
    {
      "cell_type": "code",
      "metadata": {
        "id": "UOzlo1x7MtL2",
        "colab_type": "code",
        "colab": {}
      },
      "source": [
        "if __name__ == \"__main__\":\n",
        "    run_opt = 2\n",
        "    if run_opt == 1:\n",
        "        simple_gradient()\n",
        "    elif run_opt == 2:\n",
        "        create_nn()"
      ],
      "execution_count": 0,
      "outputs": []
    }
  ]
}