{
  "nbformat": 4,
  "nbformat_minor": 0,
  "metadata": {
    "colab": {
      "name": "Logistic Regression",
      "provenance": [],
      "authorship_tag": "ABX9TyN2ydr3/NHEwW67Tl+Yktw2",
      "include_colab_link": true
    },
    "kernelspec": {
      "name": "python3",
      "display_name": "Python 3"
    }
  },
  "cells": [
    {
      "cell_type": "markdown",
      "metadata": {
        "id": "view-in-github",
        "colab_type": "text"
      },
      "source": [
        "<a href=\"https://colab.research.google.com/github/convolutionalNN/Neural-Networks/blob/master/Miscellaneous%20Machine%20Learning/Logistic%20Regression/Logistic_Regression.ipynb\" target=\"_parent\"><img src=\"https://colab.research.google.com/assets/colab-badge.svg\" alt=\"Open In Colab\"/></a>"
      ]
    },
    {
      "cell_type": "code",
      "metadata": {
        "id": "nOe3USV_NRY2",
        "colab_type": "code",
        "colab": {
          "base_uri": "https://localhost:8080/",
          "height": 35
        },
        "outputId": "c255cc53-bf73-4af9-c904-6f7b28d125cc"
      },
      "source": [
        "\n",
        "import pandas as pd\n",
        "import numpy as np\n",
        "from google.colab import drive\n",
        "drive.mount('/content/gdrive', force_remount=True)"
      ],
      "execution_count": 4,
      "outputs": [
        {
          "output_type": "stream",
          "text": [
            "Mounted at /content/gdrive\n"
          ],
          "name": "stdout"
        }
      ]
    },
    {
      "cell_type": "code",
      "metadata": {
        "id": "NrF--CvdNa18",
        "colab_type": "code",
        "colab": {}
      },
      "source": [
        "df = pd.read_csv('/content/gdrive/My Drive/Data/Kaggle/Iris.csv')\n",
        "df = df.drop(['Id'],axis=1)\n",
        "rows = list(range(100,150))\n",
        "df = df.drop(df.index[rows])  ## Drop the rows with target values Iris-virginica\n",
        "Y = []\n",
        "target = df['Species']\n",
        "for val in target:\n",
        "    if(val == 'Iris-setosa'):\n",
        "        Y.append(0)\n",
        "    else:\n",
        "        Y.append(1)\n",
        "df = df.drop(['Species'],axis=1)\n",
        "X = df.values.tolist()"
      ],
      "execution_count": 0,
      "outputs": []
    },
    {
      "cell_type": "code",
      "metadata": {
        "id": "jByEzTQDOHC-",
        "colab_type": "code",
        "colab": {}
      },
      "source": [
        "from sklearn.utils import shuffle\n",
        "from sklearn.model_selection import train_test_split\n",
        "import numpy as np\n",
        "\n",
        "X, Y = shuffle(X,Y)\n",
        "\n",
        "x_train = []\n",
        "y_train = []\n",
        "x_test = []\n",
        "y_test = []\n",
        "\n",
        "x_train, x_test, y_train, y_test = train_test_split(X, Y, train_size=0.9)\n",
        "\n",
        "x_train = np.array(x_train)\n",
        "y_train = np.array(y_train)\n",
        "x_test = np.array(x_test)\n",
        "y_test = np.array(y_test)\n",
        "\n",
        "x_1 = x_train[:,0]\n",
        "x_2 = x_train[:,1]\n",
        "x_3 = x_train[:,2]\n",
        "x_4 = x_train[:,3]\n",
        "\n",
        "x_1 = np.array(x_1)\n",
        "x_2 = np.array(x_2)\n",
        "x_3 = np.array(x_3)\n",
        "x_4 = np.array(x_4)\n",
        "\n",
        "x_1 = x_1.reshape(90,1)\n",
        "x_2 = x_2.reshape(90,1)\n",
        "x_3 = x_3.reshape(90,1)\n",
        "x_4 = x_4.reshape(90,1)\n",
        "\n",
        "y_train = y_train.reshape(90,1)"
      ],
      "execution_count": 0,
      "outputs": []
    },
    {
      "cell_type": "code",
      "metadata": {
        "id": "-JCYqF66eQS3",
        "colab_type": "code",
        "colab": {}
      },
      "source": [
        "## Logistic Regression \n",
        "import numpy as np\n",
        "\n",
        "def sigmoid(x):\n",
        "    return (1 / (1 + np.exp(-x)))\n",
        "\n",
        "m = 90\n",
        "alpha = 0.0001\n",
        "\n",
        "theta_0 = np.zeros((m,1))\n",
        "theta_1 = np.zeros((m,1))\n",
        "theta_2 = np.zeros((m,1))\n",
        "theta_3 = np.zeros((m,1))\n",
        "theta_4 = np.zeros((m,1))\n",
        "\n",
        "\n",
        "epochs = 0\n",
        "cost_func = []\n",
        "while(epochs < 10000):\n",
        "    y = theta_0 + theta_1 * x_1 + theta_2 * x_2 + theta_3 * x_3 + theta_4 * x_4\n",
        "    y = sigmoid(y)\n",
        "    \n",
        "    cost = (- np.dot(np.transpose(y_train),np.log(y)) - np.dot(np.transpose(1-y_train),np.log(1-y)))/m\n",
        "    \n",
        "    theta_0_grad = np.dot(np.ones((1,m)),y-y_train)/m\n",
        "    theta_1_grad = np.dot(np.transpose(x_1),y-y_train)/m\n",
        "    theta_2_grad = np.dot(np.transpose(x_2),y-y_train)/m\n",
        "    theta_3_grad = np.dot(np.transpose(x_3),y-y_train)/m\n",
        "    theta_4_grad = np.dot(np.transpose(x_4),y-y_train)/m\n",
        "    \n",
        "    theta_0 = theta_0 - alpha * theta_0_grad\n",
        "    theta_1 = theta_1 - alpha * theta_1_grad\n",
        "    theta_2 = theta_2 - alpha * theta_2_grad\n",
        "    theta_3 = theta_3 - alpha * theta_3_grad\n",
        "    theta_4 = theta_4 - alpha * theta_4_grad\n",
        "    \n",
        "    cost_func.append(cost)\n",
        "    epochs += 1"
      ],
      "execution_count": 0,
      "outputs": []
    },
    {
      "cell_type": "code",
      "metadata": {
        "id": "Js0ZEMMIegKH",
        "colab_type": "code",
        "colab": {
          "base_uri": "https://localhost:8080/",
          "height": 35
        },
        "outputId": "7086491d-1115-4bf9-e78c-154829613d53"
      },
      "source": [
        "from sklearn.metrics import accuracy_score\n",
        "\n",
        "test_x_1 = x_test[:,0]\n",
        "test_x_2 = x_test[:,1]\n",
        "test_x_3 = x_test[:,2]\n",
        "test_x_4 = x_test[:,3]\n",
        "\n",
        "test_x_1 = np.array(test_x_1)\n",
        "test_x_2 = np.array(test_x_2)\n",
        "test_x_3 = np.array(test_x_3)\n",
        "test_x_4 = np.array(test_x_4)\n",
        "\n",
        "test_x_1 = test_x_1.reshape(10,1)\n",
        "test_x_2 = test_x_2.reshape(10,1)\n",
        "test_x_3 = test_x_3.reshape(10,1)\n",
        "test_x_4 = test_x_4.reshape(10,1)\n",
        "\n",
        "index = list(range(10,90))\n",
        "\n",
        "theta_0 = np.delete(theta_0, index)\n",
        "theta_1 = np.delete(theta_1, index)\n",
        "theta_2 = np.delete(theta_2, index)\n",
        "theta_3 = np.delete(theta_3, index)\n",
        "theta_4 = np.delete(theta_4, index)\n",
        "\n",
        "theta_0 = theta_0.reshape(10,1)\n",
        "theta_1 = theta_1.reshape(10,1)\n",
        "theta_2 = theta_2.reshape(10,1)\n",
        "theta_3 = theta_3.reshape(10,1)\n",
        "theta_4 = theta_4.reshape(10,1)\n",
        "\n",
        "y_pred = theta_0 + theta_1 * test_x_1 + theta_2 * test_x_2 + theta_3 * test_x_3 + theta_4 * test_x_4\n",
        "y_pred = sigmoid(y_pred)\n",
        "\n",
        "new_y_pred =[]\n",
        "for val in y_pred:\n",
        "    if(val >= 0.5):\n",
        "        new_y_pred.append(1)\n",
        "    else:\n",
        "        new_y_pred.append(0)\n",
        "\n",
        "print(accuracy_score(y_test,new_y_pred))"
      ],
      "execution_count": 8,
      "outputs": [
        {
          "output_type": "stream",
          "text": [
            "1.0\n"
          ],
          "name": "stdout"
        }
      ]
    }
  ]
}