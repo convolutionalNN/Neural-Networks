{
  "nbformat": 4,
  "nbformat_minor": 0,
  "metadata": {
    "colab": {
      "name": "Linear Regression",
      "provenance": [],
      "authorship_tag": "ABX9TyOId9yDIzWiHt/+Y4z3DRZ8",
      "include_colab_link": true
    },
    "kernelspec": {
      "name": "python3",
      "display_name": "Python 3"
    }
  },
  "cells": [
    {
      "cell_type": "markdown",
      "metadata": {
        "id": "view-in-github",
        "colab_type": "text"
      },
      "source": [
        "<a href=\"https://colab.research.google.com/github/convolutionalNN/Neural-Networks/blob/master/Miscellaneous%20Machine%20Learning/Logistic%20Regression/Linear_Regression.ipynb\" target=\"_parent\"><img src=\"https://colab.research.google.com/assets/colab-badge.svg\" alt=\"Open In Colab\"/></a>"
      ]
    },
    {
      "cell_type": "code",
      "metadata": {
        "id": "Im6idwE1D_fy",
        "colab_type": "code",
        "colab": {
          "base_uri": "https://localhost:8080/",
          "height": 121
        },
        "outputId": "99ab67bc-e2e1-4c02-f6f8-720770a70f9b"
      },
      "source": [
        "import pandas as pd\n",
        "import numpy as np\n",
        "from google.colab import drive\n",
        "drive.mount('/content/gdrive', force_remount=True)"
      ],
      "execution_count": 2,
      "outputs": [
        {
          "output_type": "stream",
          "text": [
            "Go to this URL in a browser: https://accounts.google.com/o/oauth2/auth?client_id=947318989803-6bn6qk8qdgf4n4g3pfee6491hc0brc4i.apps.googleusercontent.com&redirect_uri=urn%3aietf%3awg%3aoauth%3a2.0%3aoob&response_type=code&scope=email%20https%3a%2f%2fwww.googleapis.com%2fauth%2fdocs.test%20https%3a%2f%2fwww.googleapis.com%2fauth%2fdrive%20https%3a%2f%2fwww.googleapis.com%2fauth%2fdrive.photos.readonly%20https%3a%2f%2fwww.googleapis.com%2fauth%2fpeopleapi.readonly\n",
            "\n",
            "Enter your authorization code:\n",
            "··········\n",
            "Mounted at /content/gdrive\n"
          ],
          "name": "stdout"
        }
      ]
    },
    {
      "cell_type": "code",
      "metadata": {
        "id": "ueEdxqJ3Eao-",
        "colab_type": "code",
        "colab": {}
      },
      "source": [
        "df_train = pd.read_csv('/content/gdrive/My Drive/Data/Kaggle/LinearRegTrain.csv')\n",
        "df_test = pd.read_csv('/content/gdrive/My Drive/Data/Kaggle/LinearRegTest.csv')\n",
        "\n",
        "df_train.dropna(inplace=True)\n",
        "\n",
        "x_train = df_train['x']\n",
        "y_train = df_train['y']\n",
        "x_test = df_test['x']\n",
        "y_test = df_test['y']\n",
        "\n",
        "x_train = np.array(x_train).reshape(-1, 1)\n",
        "y_train = np.array(y_train).reshape(-1, 1)\n",
        "x_test = np.array(x_test).reshape(-1, 1)\n",
        "y_test = np.array(y_test).reshape(-1, 1)"
      ],
      "execution_count": 0,
      "outputs": []
    },
    {
      "cell_type": "code",
      "metadata": {
        "id": "vb_QvCYyFFpg",
        "colab_type": "code",
        "colab": {
          "base_uri": "https://localhost:8080/",
          "height": 34
        },
        "outputId": "a5252c67-cdf2-4a03-d6fa-bfd258f91c59"
      },
      "source": [
        "from sklearn.linear_model import LinearRegression \n",
        "from sklearn.metrics import r2_score\n",
        "\n",
        "clf = LinearRegression(normalize=True)\n",
        "clf.fit(x_train,y_train)\n",
        "y_pred = clf.predict(x_test)\n",
        "print(r2_score(y_test,y_pred))"
      ],
      "execution_count": 23,
      "outputs": [
        {
          "output_type": "stream",
          "text": [
            "0.9888014444327563\n"
          ],
          "name": "stdout"
        }
      ]
    }
  ]
}